{
 "cells": [
  {
   "cell_type": "code",
   "execution_count": null,
   "metadata": {},
   "outputs": [],
   "source": [
    "import pandas as pd\n",
    "import requests\n",
    "from bs4 import BeautifulSoup\n",
    "import datetime as dt"
   ]
  },
  {
   "cell_type": "code",
   "execution_count": null,
   "metadata": {},
   "outputs": [],
   "source": [
    "# date should be in format 2024-07-15\n",
    "def get_calllog(date):\n",
    "    response = requests.get(f\"https://mke-police.herokuapp.com/?date={date}\")\n",
    "    while response.status_code != 200:\n",
    "        print(f\"could not get to page {response}\")\n",
    "        response = requests.get(f\"https://mke-police.herokuapp.com/?date={date}\")\n",
    "    content = response.content\n",
    "    soup = BeautifulSoup(content, \"html.parser\")\n",
    "    df_date = pd.read_html(str(soup))[0]\n",
    "    df_date[\"date\"] = date\n",
    "    print(df_date)\n",
    "    return df_date"
   ]
  },
  {
   "cell_type": "code",
   "execution_count": null,
   "metadata": {},
   "outputs": [],
   "source": [
    "df_24 = pd.DataFrame()"
   ]
  },
  {
   "cell_type": "markdown",
   "metadata": {},
   "source": [
    "### 2024 scrape"
   ]
  },
  {
   "cell_type": "code",
   "execution_count": null,
   "metadata": {},
   "outputs": [],
   "source": [
    "start_date = \"2024-07-15\"\n",
    "end_date = dt.date.today()\n",
    "date_range = pd.date_range(start = start_date, end = end_date)\n",
    "\n",
    "for single_date in date_range:\n",
    "    date = single_date.strftime(\"%Y-%m-%d\")\n",
    "    print(f\"in date {date}\")\n",
    "    df_date = get_calllog(date)\n",
    "    df_24 = pd.concat([df_24, df_date], ignore_index=True)"
   ]
  },
  {
   "cell_type": "code",
   "execution_count": null,
   "metadata": {},
   "outputs": [],
   "source": [
    "print(\"Exporting to CSV:\")\n",
    "df_24.to_csv(\"rnc-calls.csv\", index = False)\n",
    "print(\"END\")"
   ]
  }
 ],
 "metadata": {
  "kernelspec": {
   "display_name": "Python 3",
   "language": "python",
   "name": "python3"
  },
  "language_info": {
   "codemirror_mode": {
    "name": "ipython",
    "version": 3
   },
   "file_extension": ".py",
   "mimetype": "text/x-python",
   "name": "python",
   "nbconvert_exporter": "python",
   "pygments_lexer": "ipython3",
   "version": "3.11.1"
  }
 },
 "nbformat": 4,
 "nbformat_minor": 2
}
